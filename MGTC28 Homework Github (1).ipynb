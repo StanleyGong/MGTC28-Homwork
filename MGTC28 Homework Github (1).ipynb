{
 "cells": [
  {
   "cell_type": "code",
   "execution_count": 1,
   "id": "01398912-3f53-43a0-92a0-ae865b77e399",
   "metadata": {},
   "outputs": [
    {
     "name": "stdout",
     "output_type": "stream",
     "text": [
      "Players stand\n",
      "Waiting for 25 seconds...\n",
      "Enter the names of the players who sit down. Press Enter without typing a name to finish.\n"
     ]
    },
    {
     "name": "stdin",
     "output_type": "stream",
     "text": [
      "Player sitting:  Stanley\n",
      "Player sitting:  \n"
     ]
    },
    {
     "name": "stdout",
     "output_type": "stream",
     "text": [
      "Time's Up!\n",
      "The last person to sit down is Stanley. They win!\n",
      "Players still standing are eliminated.\n"
     ]
    }
   ],
   "source": [
    "import time\n",
    "import random\n",
    "\n",
    "def nerve_of_steel():\n",
    "    # Step 1: Display \"Players stand\"\n",
    "    print(\"Players stand\")\n",
    "    \n",
    "    # Step 2: Random sleep between 10 to 25 seconds\n",
    "    sleep_duration = random.randint(10, 25)\n",
    "    print(f\"Waiting for {sleep_duration} seconds...\")\n",
    "    \n",
    "    # Step 3: Start sleep and prompt users to enter the names of players who sit\n",
    "    sitting_players = []\n",
    "    \n",
    "    print(\"Enter the names of the players who sit down. Press Enter without typing a name to finish.\")\n",
    "    \n",
    "    # Let players sit down during the sleep time\n",
    "    start_time = time.time()\n",
    "    while time.time() - start_time < sleep_duration:\n",
    "        name = input(\"Player sitting: \")\n",
    "        if name:\n",
    "            sitting_players.append(name)\n",
    "        else:\n",
    "            break  # Stop input if no name is entered\n",
    "\n",
    "    # Step 4: Time's up\n",
    "    print(\"Time's Up!\")\n",
    "    \n",
    "    # Step 5: Determine the winner\n",
    "    if sitting_players:\n",
    "        winner = sitting_players[-1]\n",
    "        print(f\"The last person to sit down is {winner}. They win!\")\n",
    "    else:\n",
    "        print(\"No players sat down, so no winner.\")\n",
    "    \n",
    "    # Step 6: Elimination message\n",
    "    print(\"Players still standing are eliminated.\")\n",
    "\n",
    "# Run the game\n",
    "if __name__ == \"__main__\":\n",
    "    nerve_of_steel()"
   ]
  },
  {
   "cell_type": "code",
   "execution_count": null,
   "id": "1a34acb0-9116-4d62-ac2e-fe2ee21bafd8",
   "metadata": {},
   "outputs": [],
   "source": []
  }
 ],
 "metadata": {
  "kernelspec": {
   "display_name": "Python 3 (ipykernel)",
   "language": "python",
   "name": "python3"
  },
  "language_info": {
   "codemirror_mode": {
    "name": "ipython",
    "version": 3
   },
   "file_extension": ".py",
   "mimetype": "text/x-python",
   "name": "python",
   "nbconvert_exporter": "python",
   "pygments_lexer": "ipython3",
   "version": "3.12.4"
  }
 },
 "nbformat": 4,
 "nbformat_minor": 5
}
